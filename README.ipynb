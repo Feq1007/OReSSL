{
 "cells": [
  {
   "cell_type": "markdown",
   "metadata": {},
   "source": [
    "# 演化数据流上的可靠性半监督学习研究\n",
    "## 研究一：基于对比度量学习的可靠性表征模型对模型的提升\n",
    "## 研究二：基于微簇的数据流模型可靠维护\n",
    "## 研究三：基于微簇的类别不平衡数据流可靠性学习"
   ]
  },
  {
   "cell_type": "markdown",
   "metadata": {},
   "source": [
    "# 数据集介绍\n",
    "|    Dataset     | Features | Classes | Instances | Majority | Minority |\n",
    "|:--------------:|:--------:|:-------:|:---------:|:--------:|:--------:|\n",
    "|    airlines    |    8     |    2    |  539383   |  55.46   |  44.54   |\n",
    "|  covtypeNorm   |    55    |    7    |  581012   |  48.76   |   0.47   |\n",
    "|  elecNormNew   |    9     |    2    |   45312   |  57.55   |  42.45   |\n",
    "|      gas       |   129    |    6    |   13910   |  21.63   |  11.80   |\n",
    "|     kddcup     |    42    |   23    |  494020   |  56.84   |   0.00   |\n",
    "|    outdoor     |    22    |   40    |   3999    |   2.50   |   2.48   |\n",
    "|   poker-lsn    |    11    |   10    |  829201   |  50.11   |   0.00   |\n",
    "|     rialto     |    28    |   10    |   82249   |  10.00   |   9.99   |\n",
    "|     sensor     |    6     |   55    |  2219803  |   2.96   |   0.09   |\n",
    "|    shuttle     |    10    |    7    |   57999   |  78.60   |   0.02   |\n",
    "|      spam      |   500    |    2    |   9324    |  74.40   |  25.60   |\n",
    "|    twitter     |    31    |    2    |   9090    |  84.29   |  15.71   |\n",
    "|    weather     |    9     |    2    |   18159   |  68.62   |  31.38   |"
   ]
  },
  {
   "cell_type": "code",
   "execution_count": 1,
   "metadata": {},
   "outputs": [
    {
     "name": "stdout",
     "output_type": "stream",
     "text": [
      "masked initial data information:    classes  number\n",
      "0        0      21\n",
      "1        1     180\n",
      "2       -1     800\n",
      "masked stream data information:    classes  number\n",
      "0        0     130\n",
      "1        1    1196\n",
      "2       -1    5303\n",
      "done\n",
      "masked initial data information:    classes  number\n",
      "2        2       8\n",
      "5        5       9\n",
      "3        3      13\n",
      "0        0      27\n",
      "1        1      51\n",
      "4        4      95\n",
      "6       -1     800\n",
      "masked stream data information:    classes  number\n",
      "2        2      53\n",
      "5        5      72\n",
      "3        3     131\n",
      "0        0     197\n",
      "1        1     320\n",
      "4        4     554\n",
      "6       -1    5305\n",
      "done\n",
      "masked initial data information:    classes  number\n",
      "3        3       2\n",
      "4        4       5\n",
      "5        5       8\n",
      "6        6      10\n",
      "2        2      12\n",
      "0        0      70\n",
      "1        1      95\n",
      "7       -1     800\n",
      "masked stream data information:    classes  number\n",
      "3        3     515\n",
      "4        4    1910\n",
      "5        5    3383\n",
      "6        6    4090\n",
      "2        2    7072\n",
      "0        0   38660\n",
      "1        1   56606\n",
      "7       -1  448944\n",
      "done\n"
     ]
    }
   ],
   "source": [
    "# 研究一：基于对比度量学习的可靠性表征模型对模型的提升\n",
    "from utils.generate_data import split_init_data\n",
    "\n",
    "dir = 'data/benchmark/realworld'\n",
    "datasets = ['spam', 'gas', 'covtypeNorm']\n",
    "\n",
    "init_size = 1000\n",
    "label_ratio = 20\n",
    "imb_ratio = 10\n",
    "for dataset in datasets:\n",
    "    split_init_data(dataset=dataset, init_size=init_size, label_ratio=label_ratio, imb_ratio=imb_ratio)"
   ]
  },
  {
   "cell_type": "code",
   "execution_count": 2,
   "metadata": {},
   "outputs": [],
   "source": [
    "!python train_embedding.py"
   ]
  }
 ],
 "metadata": {
  "kernelspec": {
   "display_name": "Python 3",
   "language": "python",
   "name": "python3"
  },
  "language_info": {
   "codemirror_mode": {
    "name": "ipython",
    "version": 3
   },
   "file_extension": ".py",
   "mimetype": "text/x-python",
   "name": "python",
   "nbconvert_exporter": "python",
   "pygments_lexer": "ipython3",
   "version": "3.8.3"
  },
  "orig_nbformat": 4,
  "vscode": {
   "interpreter": {
    "hash": "9b04a640c22d8bcecd319ad1f5e650d2be704cc4469a07968663054afe80c9a6"
   }
  }
 },
 "nbformat": 4,
 "nbformat_minor": 2
}
