{
 "cells": [
  {
   "cell_type": "markdown",
   "metadata": {},
   "source": [
    "# 数据预处理\n",
    "[数据集](https://github.com/vlosing/driftDatasets)"
   ]
  },
  {
   "cell_type": "code",
   "execution_count": 1,
   "metadata": {},
   "outputs": [],
   "source": [
    "# tools\n",
    "import numpy as np\n",
    "import pandas as pd\n",
    "from sklearn.preprocessing import MinMaxScaler, StandardScaler, Normalizer"
   ]
  },
  {
   "cell_type": "code",
   "execution_count": 2,
   "metadata": {},
   "outputs": [],
   "source": [
    "def scaler_data(src, des, sep=',', header=False):\n",
    "    if header:\n",
    "        df = pd.read_csv(src, sep=sep)\n",
    "    else:\n",
    "        df = pd.read_csv(src,header=None, sep=sep)\n",
    "        \n",
    "    X = df.iloc[:,:-1]\n",
    "    y = df.iloc[:,-1]\n",
    "    df_std = StandardScaler(feature_range=[0,2]).fit_transform(X)\n",
    "    newdata = np.concatenate([df_std, np.array(y, dtype=np.int8).reshape([-1, 1])], axis=1)\n",
    "\n",
    "#     df_std_norm = Normalizer().fit_transform(df_std)\n",
    "#     newdata = np.concatenate([df_std_norm, np.array(y, dtype=np.int8).reshape([-1, 1])], axis=1)\n",
    "\n",
    "    df = pd.DataFrame(newdata)\n",
    "    df.describe()\n",
    "    df.to_csv(des, index=None, columns=None, header=None)"
   ]
  },
  {
   "cell_type": "markdown",
   "metadata": {},
   "source": [
    "# airlines"
   ]
  },
  {
   "cell_type": "code",
   "execution_count": 13,
   "metadata": {
    "tags": []
   },
   "outputs": [
    {
     "ename": "StopIteration",
     "evalue": "",
     "output_type": "error",
     "traceback": [
      "\u001b[0;31m---------------------------------------------------------------------------\u001b[0m",
      "\u001b[0;31mStopIteration\u001b[0m                             Traceback (most recent call last)",
      "\u001b[0;32m<ipython-input-13-e59d698d556c>\u001b[0m in \u001b[0;36m<module>\u001b[0;34m\u001b[0m\n\u001b[1;32m      4\u001b[0m \u001b[0mdes\u001b[0m \u001b[0;34m=\u001b[0m \u001b[0;34m'data/benchmark/airlines.csv'\u001b[0m\u001b[0;34m\u001b[0m\u001b[0;34m\u001b[0m\u001b[0m\n\u001b[1;32m      5\u001b[0m \u001b[0;34m\u001b[0m\u001b[0m\n\u001b[0;32m----> 6\u001b[0;31m \u001b[0mdata\u001b[0m \u001b[0;34m=\u001b[0m \u001b[0marff\u001b[0m\u001b[0;34m.\u001b[0m\u001b[0mloadarff\u001b[0m\u001b[0;34m(\u001b[0m\u001b[0msrc\u001b[0m\u001b[0;34m)\u001b[0m\u001b[0;34m\u001b[0m\u001b[0;34m\u001b[0m\u001b[0m\n\u001b[0m\u001b[1;32m      7\u001b[0m \u001b[0mdata\u001b[0m \u001b[0;34m=\u001b[0m \u001b[0mpd\u001b[0m\u001b[0;34m.\u001b[0m\u001b[0mDataFrame\u001b[0m\u001b[0;34m(\u001b[0m\u001b[0mdata\u001b[0m\u001b[0;34m[\u001b[0m\u001b[0;36m0\u001b[0m\u001b[0;34m]\u001b[0m\u001b[0;34m,\u001b[0m \u001b[0mdtype\u001b[0m\u001b[0;34m=\u001b[0m\u001b[0mnp\u001b[0m\u001b[0;34m.\u001b[0m\u001b[0mfloat32\u001b[0m\u001b[0;34m)\u001b[0m\u001b[0;34m\u001b[0m\u001b[0;34m\u001b[0m\u001b[0m\n\u001b[1;32m      8\u001b[0m \u001b[0;34m\u001b[0m\u001b[0m\n",
      "\u001b[0;32m~/anaconda3/lib/python3.7/site-packages/scipy/io/arff/arffread.py\u001b[0m in \u001b[0;36mloadarff\u001b[0;34m(f)\u001b[0m\n\u001b[1;32m    803\u001b[0m         \u001b[0mofile\u001b[0m \u001b[0;34m=\u001b[0m \u001b[0mopen\u001b[0m\u001b[0;34m(\u001b[0m\u001b[0mf\u001b[0m\u001b[0;34m,\u001b[0m \u001b[0;34m'rt'\u001b[0m\u001b[0;34m)\u001b[0m\u001b[0;34m\u001b[0m\u001b[0;34m\u001b[0m\u001b[0m\n\u001b[1;32m    804\u001b[0m     \u001b[0;32mtry\u001b[0m\u001b[0;34m:\u001b[0m\u001b[0;34m\u001b[0m\u001b[0;34m\u001b[0m\u001b[0m\n\u001b[0;32m--> 805\u001b[0;31m         \u001b[0;32mreturn\u001b[0m \u001b[0m_loadarff\u001b[0m\u001b[0;34m(\u001b[0m\u001b[0mofile\u001b[0m\u001b[0;34m)\u001b[0m\u001b[0;34m\u001b[0m\u001b[0;34m\u001b[0m\u001b[0m\n\u001b[0m\u001b[1;32m    806\u001b[0m     \u001b[0;32mfinally\u001b[0m\u001b[0;34m:\u001b[0m\u001b[0;34m\u001b[0m\u001b[0;34m\u001b[0m\u001b[0m\n\u001b[1;32m    807\u001b[0m         \u001b[0;32mif\u001b[0m \u001b[0mofile\u001b[0m \u001b[0;32mis\u001b[0m \u001b[0;32mnot\u001b[0m \u001b[0mf\u001b[0m\u001b[0;34m:\u001b[0m  \u001b[0;31m# only close what we opened\u001b[0m\u001b[0;34m\u001b[0m\u001b[0;34m\u001b[0m\u001b[0m\n",
      "\u001b[0;32m~/anaconda3/lib/python3.7/site-packages/scipy/io/arff/arffread.py\u001b[0m in \u001b[0;36m_loadarff\u001b[0;34m(ofile)\u001b[0m\n\u001b[1;32m    812\u001b[0m     \u001b[0;31m# Parse the header file\u001b[0m\u001b[0;34m\u001b[0m\u001b[0;34m\u001b[0m\u001b[0;34m\u001b[0m\u001b[0m\n\u001b[1;32m    813\u001b[0m     \u001b[0;32mtry\u001b[0m\u001b[0;34m:\u001b[0m\u001b[0;34m\u001b[0m\u001b[0;34m\u001b[0m\u001b[0m\n\u001b[0;32m--> 814\u001b[0;31m         \u001b[0mrel\u001b[0m\u001b[0;34m,\u001b[0m \u001b[0mattr\u001b[0m \u001b[0;34m=\u001b[0m \u001b[0mread_header\u001b[0m\u001b[0;34m(\u001b[0m\u001b[0mofile\u001b[0m\u001b[0;34m)\u001b[0m\u001b[0;34m\u001b[0m\u001b[0;34m\u001b[0m\u001b[0m\n\u001b[0m\u001b[1;32m    815\u001b[0m     \u001b[0;32mexcept\u001b[0m \u001b[0mValueError\u001b[0m \u001b[0;32mas\u001b[0m \u001b[0me\u001b[0m\u001b[0;34m:\u001b[0m\u001b[0;34m\u001b[0m\u001b[0;34m\u001b[0m\u001b[0m\n\u001b[1;32m    816\u001b[0m         \u001b[0mmsg\u001b[0m \u001b[0;34m=\u001b[0m \u001b[0;34m\"Error while parsing header, error was: \"\u001b[0m \u001b[0;34m+\u001b[0m \u001b[0mstr\u001b[0m\u001b[0;34m(\u001b[0m\u001b[0me\u001b[0m\u001b[0;34m)\u001b[0m\u001b[0;34m\u001b[0m\u001b[0;34m\u001b[0m\u001b[0m\n",
      "\u001b[0;32m~/anaconda3/lib/python3.7/site-packages/scipy/io/arff/arffread.py\u001b[0m in \u001b[0;36mread_header\u001b[0;34m(ofile)\u001b[0m\n\u001b[1;32m    647\u001b[0m                 \u001b[0mi\u001b[0m \u001b[0;34m=\u001b[0m \u001b[0mnext\u001b[0m\u001b[0;34m(\u001b[0m\u001b[0mofile\u001b[0m\u001b[0;34m)\u001b[0m\u001b[0;34m\u001b[0m\u001b[0;34m\u001b[0m\u001b[0m\n\u001b[1;32m    648\u001b[0m         \u001b[0;32melse\u001b[0m\u001b[0;34m:\u001b[0m\u001b[0;34m\u001b[0m\u001b[0;34m\u001b[0m\u001b[0m\n\u001b[0;32m--> 649\u001b[0;31m             \u001b[0mi\u001b[0m \u001b[0;34m=\u001b[0m \u001b[0mnext\u001b[0m\u001b[0;34m(\u001b[0m\u001b[0mofile\u001b[0m\u001b[0;34m)\u001b[0m\u001b[0;34m\u001b[0m\u001b[0;34m\u001b[0m\u001b[0m\n\u001b[0m\u001b[1;32m    650\u001b[0m \u001b[0;34m\u001b[0m\u001b[0m\n\u001b[1;32m    651\u001b[0m     \u001b[0;32mreturn\u001b[0m \u001b[0mrelation\u001b[0m\u001b[0;34m,\u001b[0m \u001b[0mattributes\u001b[0m\u001b[0;34m\u001b[0m\u001b[0;34m\u001b[0m\u001b[0m\n",
      "\u001b[0;31mStopIteration\u001b[0m: "
     ]
    }
   ],
   "source": [
    "from scipy.io import arff\n",
    "\n",
    "src = 'data/benchmark/realWorld/airlines.txt'\n",
    "des = 'data/benchmark/airlines.csv'\n",
    "\n",
    "data = arff.loadarff(src)\n",
    "data = pd.DataFrame(data[0], dtype=np.float32)\n",
    "\n",
    "x = data.values[:,:-1]\n",
    "y = data.values[:,-1]\n",
    "\n",
    "df_std = StandardScaler().fit_transform(x)\n",
    "newdata = np.concatenate([df_std, np.array(y, dtype=np.int8).reshape((-1,1))], axis=1)\n",
    "\n",
    "df = pd.DataFrame(newdata)\n",
    "df.to_csv(des, index=None, columns=None, header=None)"
   ]
  },
  {
   "cell_type": "markdown",
   "metadata": {},
   "source": [
    "# covType"
   ]
  },
  {
   "cell_type": "code",
   "execution_count": 57,
   "metadata": {},
   "outputs": [],
   "source": [
    "from scipy.io import arff"
   ]
  },
  {
   "cell_type": "code",
   "execution_count": 5,
   "metadata": {},
   "outputs": [],
   "source": [
    "src = 'data/benchmark/realWorld/covType/covType.arff'\n",
    "des = 'data/benchmark/covType.csv'\n",
    "\n",
    "data = arff.loadarff(src)\n",
    "data = pd.DataFrame(data[0], dtype=np.float32)\n",
    "\n",
    "x = data.values[:,:-1]\n",
    "y = data.values[:,-1]\n",
    "\n",
    "df_std = StandardScaler().fit_transform(x)\n",
    "newdata = np.concatenate([df_std, np.array(y, dtype=np.int8).reshape((-1,1))], axis=1)\n",
    "\n",
    "df = pd.DataFrame(newdata)\n",
    "df.to_csv(des, index=None, columns=None, header=None)"
   ]
  },
  {
   "cell_type": "markdown",
   "metadata": {},
   "source": [
    "# Airlines"
   ]
  },
  {
   "cell_type": "code",
   "execution_count": 66,
   "metadata": {},
   "outputs": [
    {
     "ename": "ValueError",
     "evalue": "could not convert string to float: b'CO'",
     "output_type": "error",
     "traceback": [
      "\u001b[0;31m---------------------------------------------------------------------------\u001b[0m",
      "\u001b[0;31mValueError\u001b[0m                                Traceback (most recent call last)",
      "\u001b[0;32m<ipython-input-66-e4be97b07810>\u001b[0m in \u001b[0;36m<module>\u001b[0;34m\u001b[0m\n\u001b[1;32m      8\u001b[0m \u001b[0my\u001b[0m \u001b[0;34m=\u001b[0m \u001b[0mdata\u001b[0m\u001b[0;34m.\u001b[0m\u001b[0mvalues\u001b[0m\u001b[0;34m[\u001b[0m\u001b[0;34m:\u001b[0m\u001b[0;34m,\u001b[0m\u001b[0;34m-\u001b[0m\u001b[0;36m1\u001b[0m\u001b[0;34m]\u001b[0m\u001b[0;34m\u001b[0m\u001b[0;34m\u001b[0m\u001b[0m\n\u001b[1;32m      9\u001b[0m \u001b[0;34m\u001b[0m\u001b[0m\n\u001b[0;32m---> 10\u001b[0;31m \u001b[0mdf_std\u001b[0m \u001b[0;34m=\u001b[0m \u001b[0mStandardScaler\u001b[0m\u001b[0;34m(\u001b[0m\u001b[0;34m)\u001b[0m\u001b[0;34m.\u001b[0m\u001b[0mfit_transform\u001b[0m\u001b[0;34m(\u001b[0m\u001b[0mx\u001b[0m\u001b[0;34m)\u001b[0m\u001b[0;34m\u001b[0m\u001b[0;34m\u001b[0m\u001b[0m\n\u001b[0m\u001b[1;32m     11\u001b[0m \u001b[0mnewdata\u001b[0m \u001b[0;34m=\u001b[0m \u001b[0mnp\u001b[0m\u001b[0;34m.\u001b[0m\u001b[0mconcatenate\u001b[0m\u001b[0;34m(\u001b[0m\u001b[0;34m[\u001b[0m\u001b[0mdf_std\u001b[0m\u001b[0;34m,\u001b[0m \u001b[0mnp\u001b[0m\u001b[0;34m.\u001b[0m\u001b[0marray\u001b[0m\u001b[0;34m(\u001b[0m\u001b[0my\u001b[0m\u001b[0;34m,\u001b[0m \u001b[0mdtype\u001b[0m\u001b[0;34m=\u001b[0m\u001b[0mnp\u001b[0m\u001b[0;34m.\u001b[0m\u001b[0mint8\u001b[0m\u001b[0;34m)\u001b[0m\u001b[0;34m.\u001b[0m\u001b[0mreshape\u001b[0m\u001b[0;34m(\u001b[0m\u001b[0;34m(\u001b[0m\u001b[0;34m-\u001b[0m\u001b[0;36m1\u001b[0m\u001b[0;34m,\u001b[0m\u001b[0;36m1\u001b[0m\u001b[0;34m)\u001b[0m\u001b[0;34m)\u001b[0m\u001b[0;34m]\u001b[0m\u001b[0;34m,\u001b[0m \u001b[0maxis\u001b[0m\u001b[0;34m=\u001b[0m\u001b[0;36m1\u001b[0m\u001b[0;34m)\u001b[0m\u001b[0;34m\u001b[0m\u001b[0;34m\u001b[0m\u001b[0m\n\u001b[1;32m     12\u001b[0m \u001b[0;34m\u001b[0m\u001b[0m\n",
      "\u001b[0;32m~/anaconda3/lib/python3.7/site-packages/sklearn/base.py\u001b[0m in \u001b[0;36mfit_transform\u001b[0;34m(self, X, y, **fit_params)\u001b[0m\n\u001b[1;32m    850\u001b[0m         \u001b[0;32mif\u001b[0m \u001b[0my\u001b[0m \u001b[0;32mis\u001b[0m \u001b[0;32mNone\u001b[0m\u001b[0;34m:\u001b[0m\u001b[0;34m\u001b[0m\u001b[0;34m\u001b[0m\u001b[0m\n\u001b[1;32m    851\u001b[0m             \u001b[0;31m# fit method of arity 1 (unsupervised transformation)\u001b[0m\u001b[0;34m\u001b[0m\u001b[0;34m\u001b[0m\u001b[0;34m\u001b[0m\u001b[0m\n\u001b[0;32m--> 852\u001b[0;31m             \u001b[0;32mreturn\u001b[0m \u001b[0mself\u001b[0m\u001b[0;34m.\u001b[0m\u001b[0mfit\u001b[0m\u001b[0;34m(\u001b[0m\u001b[0mX\u001b[0m\u001b[0;34m,\u001b[0m \u001b[0;34m**\u001b[0m\u001b[0mfit_params\u001b[0m\u001b[0;34m)\u001b[0m\u001b[0;34m.\u001b[0m\u001b[0mtransform\u001b[0m\u001b[0;34m(\u001b[0m\u001b[0mX\u001b[0m\u001b[0;34m)\u001b[0m\u001b[0;34m\u001b[0m\u001b[0;34m\u001b[0m\u001b[0m\n\u001b[0m\u001b[1;32m    853\u001b[0m         \u001b[0;32melse\u001b[0m\u001b[0;34m:\u001b[0m\u001b[0;34m\u001b[0m\u001b[0;34m\u001b[0m\u001b[0m\n\u001b[1;32m    854\u001b[0m             \u001b[0;31m# fit method of arity 2 (supervised transformation)\u001b[0m\u001b[0;34m\u001b[0m\u001b[0;34m\u001b[0m\u001b[0;34m\u001b[0m\u001b[0m\n",
      "\u001b[0;32m~/anaconda3/lib/python3.7/site-packages/sklearn/preprocessing/_data.py\u001b[0m in \u001b[0;36mfit\u001b[0;34m(self, X, y, sample_weight)\u001b[0m\n\u001b[1;32m    804\u001b[0m         \u001b[0;31m# Reset internal state before fitting\u001b[0m\u001b[0;34m\u001b[0m\u001b[0;34m\u001b[0m\u001b[0;34m\u001b[0m\u001b[0m\n\u001b[1;32m    805\u001b[0m         \u001b[0mself\u001b[0m\u001b[0;34m.\u001b[0m\u001b[0m_reset\u001b[0m\u001b[0;34m(\u001b[0m\u001b[0;34m)\u001b[0m\u001b[0;34m\u001b[0m\u001b[0;34m\u001b[0m\u001b[0m\n\u001b[0;32m--> 806\u001b[0;31m         \u001b[0;32mreturn\u001b[0m \u001b[0mself\u001b[0m\u001b[0;34m.\u001b[0m\u001b[0mpartial_fit\u001b[0m\u001b[0;34m(\u001b[0m\u001b[0mX\u001b[0m\u001b[0;34m,\u001b[0m \u001b[0my\u001b[0m\u001b[0;34m,\u001b[0m \u001b[0msample_weight\u001b[0m\u001b[0;34m)\u001b[0m\u001b[0;34m\u001b[0m\u001b[0;34m\u001b[0m\u001b[0m\n\u001b[0m\u001b[1;32m    807\u001b[0m \u001b[0;34m\u001b[0m\u001b[0m\n\u001b[1;32m    808\u001b[0m     \u001b[0;32mdef\u001b[0m \u001b[0mpartial_fit\u001b[0m\u001b[0;34m(\u001b[0m\u001b[0mself\u001b[0m\u001b[0;34m,\u001b[0m \u001b[0mX\u001b[0m\u001b[0;34m,\u001b[0m \u001b[0my\u001b[0m\u001b[0;34m=\u001b[0m\u001b[0;32mNone\u001b[0m\u001b[0;34m,\u001b[0m \u001b[0msample_weight\u001b[0m\u001b[0;34m=\u001b[0m\u001b[0;32mNone\u001b[0m\u001b[0;34m)\u001b[0m\u001b[0;34m:\u001b[0m\u001b[0;34m\u001b[0m\u001b[0;34m\u001b[0m\u001b[0m\n",
      "\u001b[0;32m~/anaconda3/lib/python3.7/site-packages/sklearn/preprocessing/_data.py\u001b[0m in \u001b[0;36mpartial_fit\u001b[0;34m(self, X, y, sample_weight)\u001b[0m\n\u001b[1;32m    845\u001b[0m             \u001b[0mdtype\u001b[0m\u001b[0;34m=\u001b[0m\u001b[0mFLOAT_DTYPES\u001b[0m\u001b[0;34m,\u001b[0m\u001b[0;34m\u001b[0m\u001b[0;34m\u001b[0m\u001b[0m\n\u001b[1;32m    846\u001b[0m             \u001b[0mforce_all_finite\u001b[0m\u001b[0;34m=\u001b[0m\u001b[0;34m\"allow-nan\"\u001b[0m\u001b[0;34m,\u001b[0m\u001b[0;34m\u001b[0m\u001b[0;34m\u001b[0m\u001b[0m\n\u001b[0;32m--> 847\u001b[0;31m             \u001b[0mreset\u001b[0m\u001b[0;34m=\u001b[0m\u001b[0mfirst_call\u001b[0m\u001b[0;34m,\u001b[0m\u001b[0;34m\u001b[0m\u001b[0;34m\u001b[0m\u001b[0m\n\u001b[0m\u001b[1;32m    848\u001b[0m         )\n\u001b[1;32m    849\u001b[0m         \u001b[0mn_features\u001b[0m \u001b[0;34m=\u001b[0m \u001b[0mX\u001b[0m\u001b[0;34m.\u001b[0m\u001b[0mshape\u001b[0m\u001b[0;34m[\u001b[0m\u001b[0;36m1\u001b[0m\u001b[0;34m]\u001b[0m\u001b[0;34m\u001b[0m\u001b[0;34m\u001b[0m\u001b[0m\n",
      "\u001b[0;32m~/anaconda3/lib/python3.7/site-packages/sklearn/base.py\u001b[0m in \u001b[0;36m_validate_data\u001b[0;34m(self, X, y, reset, validate_separately, **check_params)\u001b[0m\n\u001b[1;32m    564\u001b[0m             \u001b[0;32mraise\u001b[0m \u001b[0mValueError\u001b[0m\u001b[0;34m(\u001b[0m\u001b[0;34m\"Validation should be done on X, y or both.\"\u001b[0m\u001b[0;34m)\u001b[0m\u001b[0;34m\u001b[0m\u001b[0;34m\u001b[0m\u001b[0m\n\u001b[1;32m    565\u001b[0m         \u001b[0;32melif\u001b[0m \u001b[0;32mnot\u001b[0m \u001b[0mno_val_X\u001b[0m \u001b[0;32mand\u001b[0m \u001b[0mno_val_y\u001b[0m\u001b[0;34m:\u001b[0m\u001b[0;34m\u001b[0m\u001b[0;34m\u001b[0m\u001b[0m\n\u001b[0;32m--> 566\u001b[0;31m             \u001b[0mX\u001b[0m \u001b[0;34m=\u001b[0m \u001b[0mcheck_array\u001b[0m\u001b[0;34m(\u001b[0m\u001b[0mX\u001b[0m\u001b[0;34m,\u001b[0m \u001b[0;34m**\u001b[0m\u001b[0mcheck_params\u001b[0m\u001b[0;34m)\u001b[0m\u001b[0;34m\u001b[0m\u001b[0;34m\u001b[0m\u001b[0m\n\u001b[0m\u001b[1;32m    567\u001b[0m             \u001b[0mout\u001b[0m \u001b[0;34m=\u001b[0m \u001b[0mX\u001b[0m\u001b[0;34m\u001b[0m\u001b[0;34m\u001b[0m\u001b[0m\n\u001b[1;32m    568\u001b[0m         \u001b[0;32melif\u001b[0m \u001b[0mno_val_X\u001b[0m \u001b[0;32mand\u001b[0m \u001b[0;32mnot\u001b[0m \u001b[0mno_val_y\u001b[0m\u001b[0;34m:\u001b[0m\u001b[0;34m\u001b[0m\u001b[0;34m\u001b[0m\u001b[0m\n",
      "\u001b[0;32m~/anaconda3/lib/python3.7/site-packages/sklearn/utils/validation.py\u001b[0m in \u001b[0;36mcheck_array\u001b[0;34m(array, accept_sparse, accept_large_sparse, dtype, order, copy, force_all_finite, ensure_2d, allow_nd, ensure_min_samples, ensure_min_features, estimator)\u001b[0m\n\u001b[1;32m    744\u001b[0m                     \u001b[0marray\u001b[0m \u001b[0;34m=\u001b[0m \u001b[0marray\u001b[0m\u001b[0;34m.\u001b[0m\u001b[0mastype\u001b[0m\u001b[0;34m(\u001b[0m\u001b[0mdtype\u001b[0m\u001b[0;34m,\u001b[0m \u001b[0mcasting\u001b[0m\u001b[0;34m=\u001b[0m\u001b[0;34m\"unsafe\"\u001b[0m\u001b[0;34m,\u001b[0m \u001b[0mcopy\u001b[0m\u001b[0;34m=\u001b[0m\u001b[0;32mFalse\u001b[0m\u001b[0;34m)\u001b[0m\u001b[0;34m\u001b[0m\u001b[0;34m\u001b[0m\u001b[0m\n\u001b[1;32m    745\u001b[0m                 \u001b[0;32melse\u001b[0m\u001b[0;34m:\u001b[0m\u001b[0;34m\u001b[0m\u001b[0;34m\u001b[0m\u001b[0m\n\u001b[0;32m--> 746\u001b[0;31m                     \u001b[0marray\u001b[0m \u001b[0;34m=\u001b[0m \u001b[0mnp\u001b[0m\u001b[0;34m.\u001b[0m\u001b[0masarray\u001b[0m\u001b[0;34m(\u001b[0m\u001b[0marray\u001b[0m\u001b[0;34m,\u001b[0m \u001b[0morder\u001b[0m\u001b[0;34m=\u001b[0m\u001b[0morder\u001b[0m\u001b[0;34m,\u001b[0m \u001b[0mdtype\u001b[0m\u001b[0;34m=\u001b[0m\u001b[0mdtype\u001b[0m\u001b[0;34m)\u001b[0m\u001b[0;34m\u001b[0m\u001b[0;34m\u001b[0m\u001b[0m\n\u001b[0m\u001b[1;32m    747\u001b[0m             \u001b[0;32mexcept\u001b[0m \u001b[0mComplexWarning\u001b[0m \u001b[0;32mas\u001b[0m \u001b[0mcomplex_warning\u001b[0m\u001b[0;34m:\u001b[0m\u001b[0;34m\u001b[0m\u001b[0;34m\u001b[0m\u001b[0m\n\u001b[1;32m    748\u001b[0m                 raise ValueError(\n",
      "\u001b[0;32m~/anaconda3/lib/python3.7/site-packages/numpy/core/_asarray.py\u001b[0m in \u001b[0;36masarray\u001b[0;34m(a, dtype, order)\u001b[0m\n\u001b[1;32m     81\u001b[0m \u001b[0;34m\u001b[0m\u001b[0m\n\u001b[1;32m     82\u001b[0m     \"\"\"\n\u001b[0;32m---> 83\u001b[0;31m     \u001b[0;32mreturn\u001b[0m \u001b[0marray\u001b[0m\u001b[0;34m(\u001b[0m\u001b[0ma\u001b[0m\u001b[0;34m,\u001b[0m \u001b[0mdtype\u001b[0m\u001b[0;34m,\u001b[0m \u001b[0mcopy\u001b[0m\u001b[0;34m=\u001b[0m\u001b[0;32mFalse\u001b[0m\u001b[0;34m,\u001b[0m \u001b[0morder\u001b[0m\u001b[0;34m=\u001b[0m\u001b[0morder\u001b[0m\u001b[0;34m)\u001b[0m\u001b[0;34m\u001b[0m\u001b[0;34m\u001b[0m\u001b[0m\n\u001b[0m\u001b[1;32m     84\u001b[0m \u001b[0;34m\u001b[0m\u001b[0m\n\u001b[1;32m     85\u001b[0m \u001b[0;34m\u001b[0m\u001b[0m\n",
      "\u001b[0;31mValueError\u001b[0m: could not convert string to float: b'CO'"
     ]
    }
   ],
   "source": [
    "src ='data/benchmark/realWorld/airlines/airlines.arff'\n",
    "des = 'data/benchmark/airlines.csv'\n",
    "\n",
    "data = arff.loadarff(src)\n",
    "data = pd.DataFrame(data[0], dtype=np.float32)\n",
    "\n",
    "x = data.values[:,:-1]\n",
    "y = data.values[:,-1]\n",
    "\n",
    "df_std = StandardScaler().fit_transform(x)\n",
    "newdata = np.concatenate([df_std, np.array(y, dtype=np.int8).reshape((-1,1))], axis=1)\n",
    "\n",
    "df = pd.DataFrame(newdata)\n",
    "df.to_csv(des, index=None, columns=None, header=None)"
   ]
  },
  {
   "cell_type": "code",
   "execution_count": 65,
   "metadata": {},
   "outputs": [
    {
     "name": "stdout",
     "output_type": "stream",
     "text": [
      "Dataset: out\n",
      "\tAirline's type is nominal, range is ('US', 'AA', 'AS', 'CO', 'DL', 'B6', 'HA', 'OO', '9E', 'OH', 'EV', 'XE', 'YV', 'UA', 'MQ', 'FL', 'F9', 'WN')\n",
      "\tFlight's type is numeric\n",
      "\tAirportFrom's type is nominal, range is ('PHX', 'LAX', 'SFO', 'ANC', 'LAS', 'SLC', 'DEN', 'ONT', 'FAI', 'BQN', 'PSE', 'HNL', 'BIS', 'IYK', 'EWR', 'BOS', 'MKE', 'GFK', 'OMA', 'GSO', 'LMT', 'SEA', 'MCO', 'TPA', 'DLH', 'MSP', 'FAR', 'MFE', 'MSY', 'VPS', 'BWI', 'MAF', 'LWS', 'RST', 'ALB', 'DSM', 'CHS', 'MSN', 'JAX', 'SAT', 'PNS', 'BHM', 'LIT', 'SAV', 'BNA', 'ICT', 'ECP', 'DHN', 'MGM', 'CAE', 'PWM', 'ACV', 'EKO', 'PHL', 'ATL', 'PDX', 'RIC', 'BTR', 'HRL', 'MYR', 'TUS', 'SBN', 'CAK', 'TVC', 'CLE', 'ORD', 'DAY', 'MFR', 'BTV', 'TLH', 'TYS', 'DFW', 'FLL', 'AUS', 'CHA', 'CMH', 'LRD', 'BRO', 'CRP', 'LAN', 'PVD', 'FWA', 'JFK', 'LGA', 'OKC', 'PIT', 'PBI', 'ORF', 'DCA', 'AEX', 'SYR', 'SHV', 'VLD', 'BDL', 'FAT', 'BZN', 'RDM', 'LFT', 'IPL', 'EAU', 'ERI', 'BUF', 'IAH', 'MCI', 'AGS', 'ABI', 'GRR', 'LBB', 'CLT', 'LEX', 'MBS', 'MOD', 'AMA', 'SGF', 'AZO', 'ABE', 'SWF', 'BGM', 'AVP', 'FNT', 'GSP', 'ATW', 'ITH', 'TUL', 'COS', 'ELP', 'ABQ', 'SMF', 'STL', 'IAD', 'DTW', 'RDU', 'RSW', 'OAK', 'ROC', 'IND', 'CVG', 'MDW', 'SDF', 'ABY', 'TRI', 'XNA', 'ROA', 'MLI', 'LYH', 'EVV', 'HPN', 'FAY', 'EWN', 'CSG', 'GPT', 'MLU', 'MOB', 'OAJ', 'CHO', 'ILM', 'BMI', 'PHF', 'ACY', 'JAN', 'CID', 'GRK', 'HOU', 'CRW', 'HTS', 'PSC', 'BOI', 'SBP', 'CLD', 'PSP', 'SBA', 'MEM', 'MRY', 'GEG', 'RDD', 'PAH', 'CMX', 'SPI', 'EUG', 'CIC', 'PIH', 'SGU', 'COD', 'MIA', 'MHT', 'GRB', 'FSD', 'SJU', 'AVL', 'BFL', 'RAP', 'DRO', 'PIA', 'OGG', 'SIT', 'TXK', 'RNO', 'DAL', 'SCE', 'MEI', 'MDT', 'FCA', 'SJC', 'KOA', 'PLN', 'SAN', 'GNV', 'HLN', 'GJT', 'CPR', 'FSM', 'CMI', 'GTF', 'HDN', 'ITO', 'MTJ', 'HSV', 'BTM', 'BIL', 'COU', 'MSO', 'SMX', 'TWF', 'ISP', 'GCC', 'LIH', 'LNK', 'DAB', 'SNA', 'MQT', 'LGB', 'CWA', 'LSE', 'BUR', 'ACT', 'MHK', 'MOT', 'IDA', 'SUN', 'GTR', 'MLB', 'SRQ', 'JAC', 'ASE', 'LCH', 'JNU', 'ROW', 'BQK', 'YUM', 'FLG', 'EGE', 'GUC', 'EYW', 'RKS', 'BGR', 'ELM', 'ADQ', 'OTZ', 'OTH', 'STT', 'KTN', 'BET', 'SJT', 'CDC', 'CEC', 'SPS', 'SCC', 'STX', 'OME', 'MKG', 'WRG', 'TYR', 'BRW', 'GGG', 'PSG', 'BKG', 'YAK', 'CLL', 'SAF', 'CYS', 'LWB', 'CDV', 'FLO', 'BLI', 'DBQ', 'TOL', 'UTM', 'PIE', 'ADK', 'ABR', 'TEX', 'MMH', 'GUM')\n",
      "\tAirportTo's type is nominal, range is ('CLT', 'DFW', 'SEA', 'IAH', 'MSP', 'DTW', 'ORD', 'ATL', 'PDX', 'JFK', 'SLC', 'HNL', 'PHX', 'MCO', 'OGG', 'LAX', 'KOA', 'ITO', 'SFO', 'MIA', 'IAD', 'SMF', 'PHL', 'LIH', 'DEN', 'LGA', 'MEM', 'CVG', 'YUM', 'CWA', 'MKE', 'BQN', 'FAI', 'LAS', 'ANC', 'BOS', 'LGB', 'FLL', 'SJU', 'EWR', 'DCA', 'BWI', 'RDU', 'MCI', 'TYS', 'SAN', 'ONT', 'OAK', 'MDW', 'BNA', 'DAL', 'CLE', 'JAX', 'JNU', 'RNO', 'ELP', 'SAT', 'OTZ', 'MBS', 'BDL', 'STL', 'HOU', 'AUS', 'SNA', 'SJC', 'LIT', 'TUS', 'TUL', 'CMH', 'LAN', 'IND', 'AMA', 'CRP', 'PIT', 'RKS', 'FWA', 'TPA', 'PBI', 'JAN', 'DSM', 'ADQ', 'GRB', 'PVD', 'ABQ', 'SDF', 'RSW', 'MSY', 'BUR', 'BOI', 'TLH', 'BHM', 'ACV', 'ORF', 'BET', 'KTN', 'RIC', 'SRQ', 'BTR', 'XNA', 'MHT', 'GRR', 'SBN', 'SBA', 'ROA', 'CID', 'GPT', 'MFR', 'SGU', 'HPN', 'OMA', 'OTH', 'GSP', 'LMT', 'BUF', 'MSN', 'BFL', 'CAE', 'HRL', 'OKC', 'SYR', 'COS', 'BTV', 'CDC', 'SCC', 'DAY', 'SJT', 'TVC', 'ROC', 'ISP', 'MRY', 'SBP', 'MLI', 'MOB', 'CIC', 'SAV', 'FAT', 'EKO', 'GEG', 'ECP', 'LFT', 'SUN', 'HSV', 'SHV', 'CHA', 'CAK', 'BZN', 'MAF', 'GSO', 'MDT', 'PHF', 'ICT', 'AZO', 'RAP', 'CHS', 'CLD', 'MKG', 'VPS', 'PIH', 'ATW', 'AGS', 'PNS', 'BIL', 'SPI', 'FAR', 'CPR', 'PIA', 'SPS', 'TWF', 'LBB', 'ALB', 'CEC', 'DRO', 'GJT', 'GNV', 'RST', 'AVL', 'GRK', 'PSP', 'LEX', 'TRI', 'SGF', 'FSM', 'RDD', 'OME', 'MFE', 'LSE', 'BMI', 'MYR', 'FAY', 'FSD', 'EUG', 'MGM', 'EVV', 'MLB', 'FNT', 'STT', 'WRG', 'ABE', 'BIS', 'MOT', 'MLU', 'GFK', 'RDM', 'COU', 'LRD', 'PSC', 'MOD', 'PWM', 'ILM', 'ABY', 'CRW', 'TXK', 'BRO', 'BRW', 'EYW', 'DAB', 'ROW', 'ABI', 'EAU', 'TYR', 'MSO', 'FLG', 'CSG', 'VLD', 'DHN', 'OAJ', 'AEX', 'CHO', 'SAF', 'GGG', 'FCA', 'ASE', 'BKG', 'MHK', 'LNK', 'MQT', 'YAK', 'GTR', 'SMX', 'SWF', 'ITH', 'AVP', 'ELM', 'BGM', 'SIT', 'PSG', 'CYS', 'CLL', 'SCE', 'LWB', 'LCH', 'GCC', 'IYK', 'LWS', 'COD', 'HLN', 'BQK', 'GTF', 'DLH', 'BTM', 'EGE', 'IDA', 'JAC', 'HDN', 'MTJ', 'CMX', 'CMI', 'CDV', 'LYH', 'ACT', 'STX', 'IPL', 'PAH', 'HTS', 'MEI', 'BLI', 'ERI', 'EWN', 'FLO', 'ACY', 'DBQ', 'TOL', 'GUC', 'PLN', 'BGR', 'PSE', 'PIE', 'UTM', 'ADK', 'ABR', 'TEX', 'MMH', 'GUM')\n",
      "\tDayOfWeek's type is nominal, range is ('1', '2', '3', '4', '5', '6', '7')\n",
      "\tTime's type is numeric\n",
      "\tLength's type is numeric\n",
      "\tDelay's type is nominal, range is ('0', '1')\n",
      "\n"
     ]
    }
   ],
   "source": [
    "from scipy.io import arff\n",
    "import pandas as pd \n",
    "\n",
    "file_name='data/benchmark/realWorld/airlines/airlines.arff'\n",
    "\n",
    "data,meta=arff.loadarff(file_name)\n",
    "#print(data)\n",
    "print(meta)"
   ]
  },
  {
   "cell_type": "code",
   "execution_count": 72,
   "metadata": {},
   "outputs": [],
   "source": [
    "import sklearn.preprocessing as pre_processing\n",
    "import numpy as np\n",
    "import pandas as pd"
   ]
  },
  {
   "cell_type": "code",
   "execution_count": 83,
   "metadata": {},
   "outputs": [],
   "source": [
    "encoder = pre_processing.OrdinalEncoder()\n",
    "\n",
    "data = pd.read_csv(\"data/benchmark/realWorld/airlines.csv\").values\n",
    "des = \"data/benchmark/realWorld/new_airlines.csv\"\n",
    "\n",
    "encoder.fit(data[:,:4])\n",
    "data = np.hstack([encoder.transform(data[:,:4]), data[:,4:]])\n",
    "\n",
    "df = pd.DataFrame(data)\n",
    "df.to_csv(des, index=None, columns=None, header=None)"
   ]
  },
  {
   "cell_type": "markdown",
   "metadata": {},
   "source": [
    "# Elec2"
   ]
  },
  {
   "cell_type": "code",
   "execution_count": 8,
   "metadata": {},
   "outputs": [],
   "source": [
    "src = 'data/benchmark/realWorld/Elec2/elec2_data.dat'\n",
    "src_label = 'data/benchmark/realWorld/Elec2/elec2_label.dat'\n",
    "des = 'data/benchmark/elec2.csv'\n",
    "\n",
    "x = pd.read_csv(src, header=None, sep=' ', dtype=np.float32).values\n",
    "y = pd.read_csv(src_label, header=None).values\n",
    "# print(data.shape, label.shape)\n",
    "\n",
    "df_std = StandardScaler().fit_transform(x)\n",
    "newdata = np.concatenate([df_std, np.array(y, dtype=np.int8).reshape((-1,1))], axis=1)\n",
    "\n",
    "df = pd.DataFrame(newdata)\n",
    "df.to_csv(des, index=None, columns=None, header=None)"
   ]
  },
  {
   "cell_type": "markdown",
   "metadata": {},
   "source": [
    "# outdoorStream"
   ]
  },
  {
   "cell_type": "code",
   "execution_count": 9,
   "metadata": {},
   "outputs": [],
   "source": [
    "src = 'data/benchmark/realWorld/outdoor/outdoorStream.data'\n",
    "src_label = 'data/benchmark/realWorld/outdoor/outdoorStream.labels'\n",
    "des = 'data/benchmark/outdoorStream.csv'\n",
    "\n",
    "\n",
    "x = pd.read_csv(src, sep=' ', header=None)\n",
    "y = pd.read_csv(src_label, header=None).values\n",
    "\n",
    "df_std = StandardScaler().fit_transform(x)\n",
    "newdata = np.concatenate([df_std, np.array(y, dtype=np.int8).reshape((-1,1))], axis=1)\n",
    "\n",
    "df = pd.DataFrame(newdata)\n",
    "df.to_csv(des, index=None, columns=None, header=None)"
   ]
  },
  {
   "cell_type": "markdown",
   "metadata": {},
   "source": [
    "# poker"
   ]
  },
  {
   "cell_type": "code",
   "execution_count": 14,
   "metadata": {
    "tags": []
   },
   "outputs": [],
   "source": [
    "from scipy.io import arff\n",
    "\n",
    "src = 'data/benchmark/realWorld/poker/poker-lsn.arff'\n",
    "\n",
    "des = 'data/benchmark/poker-lsn.csv'\n",
    "\n",
    "data = arff.loadarff(src)\n",
    "data = pd.DataFrame(data[0], dtype=np.float32)\n",
    "\n",
    "x = data.values[:,:-1]\n",
    "y = data.values[:,-1]\n",
    "\n",
    "df_std = StandardScaler().fit_transform(x)\n",
    "newdata = np.concatenate([df_std, np.array(y, dtype=np.int8).reshape((-1,1))], axis=1)\n",
    "\n",
    "df = pd.DataFrame(newdata)\n",
    "df.to_csv(des, index=None, columns=None, header=None)"
   ]
  },
  {
   "cell_type": "markdown",
   "metadata": {},
   "source": [
    "# rialto"
   ]
  },
  {
   "cell_type": "code",
   "execution_count": 16,
   "metadata": {},
   "outputs": [],
   "source": [
    "src = 'data/benchmark/realWorld/rialto/rialto.data'\n",
    "src_label = 'data/benchmark/realWorld/rialto/rialto.labels'\n",
    "des = 'data/benchmark/rialto.csv'\n",
    "\n",
    "\n",
    "x = pd.read_csv(src, sep=' ', header=None)\n",
    "y = pd.read_csv(src_label, header=None).values\n",
    "\n",
    "df_std = StandardScaler().fit_transform(x)\n",
    "newdata = np.concatenate([df_std, np.array(y, dtype=np.int8).reshape((-1,1))], axis=1)\n",
    "\n",
    "df = pd.DataFrame(newdata)\n",
    "df.to_csv(des, index=None, columns=None, header=None)"
   ]
  },
  {
   "cell_type": "markdown",
   "metadata": {},
   "source": [
    "# spam"
   ]
  },
  {
   "cell_type": "code",
   "execution_count": null,
   "metadata": {},
   "outputs": [],
   "source": []
  },
  {
   "cell_type": "markdown",
   "metadata": {},
   "source": [
    "# weather"
   ]
  },
  {
   "cell_type": "code",
   "execution_count": 41,
   "metadata": {},
   "outputs": [
    {
     "name": "stdout",
     "output_type": "stream",
     "text": [
      "(18159, 8)\n",
      "(18159, 1)\n"
     ]
    }
   ],
   "source": [
    "src = 'data/benchmark/realWorld/weather/NEweather_data.csv'\n",
    "src_label = 'data/benchmark/realWorld/weather/NEweather_class.csv'\n",
    "des = 'data/benchmark/NEweather.csv'\n",
    "\n",
    "\n",
    "x = pd.read_csv(src, sep=',', header=None)\n",
    "print(x.shape)\n",
    "y = pd.read_csv(src_label, header=None).values\n",
    "print(y.shape)"
   ]
  },
  {
   "cell_type": "code",
   "execution_count": 18,
   "metadata": {},
   "outputs": [],
   "source": [
    "src = 'data/benchmark/realWorld/weather/NEweather_data.csv'\n",
    "src_label = 'data/benchmark/realWorld/weather/NEweather_class.csv'\n",
    "des = 'data/benchmark/NEweather.csv'\n",
    "\n",
    "\n",
    "x = pd.read_csv(src, sep=',', header=None)\n",
    "y = pd.read_csv(src_label, header=None).values\n",
    "\n",
    "df_std = StandardScaler().fit_transform(x)\n",
    "newdata = np.concatenate([df_std, np.array(y, dtype=np.int8).reshape((-1,1))], axis=1)\n",
    "\n",
    "df = pd.DataFrame(newdata)\n",
    "df.to_csv(des, index=None, columns=None, header=None)"
   ]
  },
  {
   "cell_type": "markdown",
   "metadata": {},
   "source": [
    "# kdd99"
   ]
  },
  {
   "cell_type": "code",
   "execution_count": null,
   "metadata": {
    "tags": []
   },
   "outputs": [],
   "source": [
    "import csv\n",
    "import time\n",
    "from sklearn.model_selection import train_test_split\n",
    "\n",
    "global label_list\n",
    "label_list = []\n",
    "\n",
    "dat = 'data/benchmark/realWorld/kdd/kddcup.data_10_percent_corrected'\n",
    "src = 'data/dataset/kddcup.data_10_percent_corrected.dat'\n",
    "des = 'data/data/kddcup.data_10_percent_corrected.csv'\n",
    "\n",
    "def preprocess(src, des):\n",
    "    data_file = open(des, 'w', newline='')\n",
    "    with open(src) as data_source:\n",
    "        csv_reader = csv.reader(data_source)\n",
    "        csv_writer = csv.writer(data_file)\n",
    "        count = 0\n",
    "        for i, row in enumerate(csv_reader):\n",
    "            temp_line = np.array(row)\n",
    "            temp_line[1] = handleProtocol(row)\n",
    "            temp_line[2] = handleService(row)\n",
    "            temp_line[3] = handleFlag(row)\n",
    "            temp_line[41] = handleLabel(row)\n",
    "            csv_writer.writerow(temp_line)\n",
    "            count += 1\n",
    "#             if count % 100000 == 0:\n",
    "#                 print(temp_line)\n",
    "    data_file.close()\n",
    "\n",
    "def handleProtocol(input):\n",
    "    \"\"\"\n",
    "    定义将源文件行中3种协议类型转换成数字标识的函数\n",
    "    \"\"\"\n",
    "    protocol_list = ['tcp', 'udp', 'icmp']\n",
    "    if input[1] in protocol_list:\n",
    "        return protocol_list.index(input[1])\n",
    "\n",
    "def handleService(input):\n",
    "    \"\"\"\n",
    "    定义将源文件行中70种网络服务类型转换成数字标识的函数\n",
    "    \"\"\"\n",
    "    service_list = ['aol', 'auth', 'bgp', 'courier', 'csnet_ns', 'ctf', 'daytime', 'discard', 'domain', 'domain_u',\n",
    "                    'echo', 'eco_i', 'ecr_i', 'efs', 'exec', 'finger', 'ftp', 'ftp_data', 'gopher', 'harvest',\n",
    "                    'hostnames',\n",
    "                    'http', 'http_2784', 'http_443', 'http_8001', 'imap4', 'IRC', 'iso_tsap', 'klogin', 'kshell',\n",
    "                    'ldap',\n",
    "                    'link', 'login', 'mtp', 'name', 'netbios_dgm', 'netbios_ns', 'netbios_ssn', 'netstat', 'nnsp',\n",
    "                    'nntp',\n",
    "                    'ntp_u', 'other', 'pm_dump', 'pop_2', 'pop_3', 'printer', 'private', 'red_i', 'remote_job', 'rje',\n",
    "                    'shell',\n",
    "                    'smtp', 'sql_net', 'ssh', 'sunrpc', 'supdup', 'systat', 'telnet', 'tftp_u', 'tim_i', 'time',\n",
    "                    'urh_i', 'urp_i',\n",
    "                    'uucp', 'uucp_path', 'vmnet', 'whois', 'X11', 'Z39_50']\n",
    "    if input[2] in service_list:\n",
    "        return service_list.index(input[2])\n",
    "\n",
    "def handleFlag(input):\n",
    "    \"\"\"\n",
    "    定义将源文件行中11种网络连接状态转换成数字标识的函数\n",
    "    \"\"\"\n",
    "    flag_list = ['OTH', 'REJ', 'RSTO', 'RSTOS0', 'RSTR', 'S0', 'S1', 'S2', 'S3', 'SF', 'SH']\n",
    "    if input[3] in flag_list:\n",
    "        return flag_list.index(input[3])\n",
    "\n",
    "def handleLabel(input):\n",
    "    \"\"\"\n",
    "    定义将源文件行中攻击类型转换成数字标识的函数(训练集中共出现了22个攻击类型，而剩下的17种只在测试集中出现)\n",
    "    \"\"\"\n",
    "    global label_list\n",
    "    if not input[41] in label_list:\n",
    "        label_list.append(input[41])\n",
    "    return label_list.index(input[41])\n",
    "\n",
    "\n",
    "def kddcup99():\n",
    "    preprocess(dat, src)\n",
    "    mm_norm(src, des)\n",
    "\n",
    "kddcup99()"
   ]
  },
  {
   "cell_type": "markdown",
   "metadata": {},
   "source": [
    "# Aritficial"
   ]
  },
  {
   "cell_type": "markdown",
   "metadata": {},
   "source": [
    "# chess"
   ]
  },
  {
   "cell_type": "code",
   "execution_count": 19,
   "metadata": {},
   "outputs": [],
   "source": [
    "src = 'data/benchmark/artificial/chess/transientChessboard.data'\n",
    "src_label = 'data/benchmark/artificial/chess/transientChessboard.labels'\n",
    "des = 'data/benchmark/transientChessboard.csv'\n",
    "\n",
    "x = pd.read_csv(src, sep=' ', header=None)\n",
    "y = pd.read_csv(src_label, header=None).values\n",
    "\n",
    "df_std = StandardScaler().fit_transform(x)\n",
    "newdata = np.concatenate([df_std, np.array(y, dtype=np.int8).reshape((-1,1))], axis=1)\n",
    "\n",
    "df = pd.DataFrame(newdata)\n",
    "df.to_csv(des, index=None, columns=None, header=None)\n"
   ]
  },
  {
   "cell_type": "markdown",
   "metadata": {},
   "source": [
    "# hyperplane"
   ]
  },
  {
   "cell_type": "code",
   "execution_count": 21,
   "metadata": {},
   "outputs": [],
   "source": [
    "src = 'data/benchmark/artificial/hyperplane/rotatingHyperplane.data'\n",
    "src_label = 'data/benchmark/artificial/hyperplane/rotatingHyperplane.labels'\n",
    "des = 'data/benchmark/rotatingHyperplane.csv'\n",
    "\n",
    "x = pd.read_csv(src, sep=' ', header=None)\n",
    "y = pd.read_csv(src_label, header=None).values\n",
    "\n",
    "df_std = StandardScaler().fit_transform(x)\n",
    "newdata = np.concatenate([df_std, np.array(y, dtype=np.int8).reshape((-1,1))], axis=1)\n",
    "\n",
    "df = pd.DataFrame(newdata)\n",
    "df.to_csv(des, index=None, columns=None, header=None)"
   ]
  },
  {
   "cell_type": "code",
   "execution_count": 51,
   "metadata": {},
   "outputs": [
    {
     "name": "stdout",
     "output_type": "stream",
     "text": [
      "(200000, 1) \n",
      "    classes  number\n",
      "1        1   99935\n",
      "0        0  100065\n"
     ]
    }
   ],
   "source": [
    "src_label = 'data/benchmark/artificial/hyperplane/rotatingHyperplane.labels'\n",
    "\n",
    "def compute_class_info(labels):\n",
    "    \"\"\"\n",
    "    return the statistic information about class information\n",
    "    \"\"\"\n",
    "    classes = list(set(labels))\n",
    "    class_num_true_list = []\n",
    "    for c in classes:\n",
    "        class_num_true_list.append(len(np.where(labels == c)[0]))\n",
    "    class_info = np.array([classes, class_num_true_list], dtype=int).transpose()\n",
    "    class_info = pd.DataFrame(class_info, columns=['classes', 'number'])\n",
    "    class_info = class_info.sort_values(by='number')\n",
    "    return class_info\n",
    "\n",
    "y = pd.read_csv(src_label, header=None).values\n",
    "\n",
    "class_info = compute_class_info(y.reshape((-1)))\n",
    "print(y.shape, '\\n', class_info)"
   ]
  },
  {
   "cell_type": "markdown",
   "metadata": {},
   "source": [
    "# LED"
   ]
  },
  {
   "cell_type": "code",
   "execution_count": 22,
   "metadata": {},
   "outputs": [],
   "source": [
    "from scipy.io import arff\n",
    "\n",
    "src = 'data/benchmark/artificial/led/ledDriftSmall.arff'\n",
    "des = 'data/benchmark/ledDriftSmall.csv'\n",
    "\n",
    "\n",
    "data = arff.loadarff(src)\n",
    "\n",
    "df = pd.DataFrame(data[0], dtype=np.float32)\n",
    "df.to_csv(des, index=None, columns=None, header=None)"
   ]
  },
  {
   "cell_type": "markdown",
   "metadata": {},
   "source": [
    "# mixedDrift"
   ]
  },
  {
   "cell_type": "code",
   "execution_count": 23,
   "metadata": {},
   "outputs": [],
   "source": [
    "src = 'data/benchmark/artificial/mixedDrift/mixedDrift.data'\n",
    "src_label = 'data/benchmark/artificial/mixedDrift/mixedDrift.labels'\n",
    "des = 'data/benchmark/mixedDrift.csv'\n",
    "\n",
    "x = pd.read_csv(src, sep=' ', header=None)\n",
    "y = pd.read_csv(src_label, header=None).values\n",
    "\n",
    "df_std = StandardScaler().fit_transform(x)\n",
    "newdata = np.concatenate([df_std, np.array(y, dtype=np.int8).reshape((-1,1))], axis=1)\n",
    "\n",
    "df = pd.DataFrame(newdata)\n",
    "df.to_csv(des, index=None, columns=None, header=None)"
   ]
  },
  {
   "cell_type": "markdown",
   "metadata": {},
   "source": [
    "# movingSquares"
   ]
  },
  {
   "cell_type": "code",
   "execution_count": 24,
   "metadata": {},
   "outputs": [],
   "source": [
    "src = 'data/benchmark/artificial/movingSquares/movingSquares.data'\n",
    "src_label = 'data/benchmark/artificial/movingSquares/movingSquares.labels'\n",
    "des = 'data/benchmark/movingSquares.csv'\n",
    "\n",
    "x = pd.read_csv(src, sep=' ', header=None)\n",
    "y = pd.read_csv(src_label, header=None).values\n",
    "\n",
    "df_std = StandardScaler().fit_transform(x)\n",
    "newdata = np.concatenate([df_std, np.array(y, dtype=np.int8).reshape((-1,1))], axis=1)\n",
    "\n",
    "df = pd.DataFrame(newdata)\n",
    "df.to_csv(des, index=None, columns=None, header=None)"
   ]
  },
  {
   "cell_type": "markdown",
   "metadata": {},
   "source": [
    "# rbf"
   ]
  },
  {
   "cell_type": "code",
   "execution_count": 26,
   "metadata": {},
   "outputs": [],
   "source": [
    "src = 'data/benchmark/artificial/rbf/movingRBF.data'\n",
    "src_label = 'data/benchmark/artificial/rbf/movingRBF.labels'\n",
    "des = 'data/benchmark/movingRBF.csv'\n",
    "\n",
    "x = pd.read_csv(src, sep=' ', header=None)\n",
    "y = pd.read_csv(src_label, header=None).values\n",
    "\n",
    "df_std = StandardScaler().fit_transform(x)\n",
    "newdata = np.concatenate([df_std, np.array(y, dtype=np.int8).reshape((-1,1))], axis=1)\n",
    "\n",
    "df = pd.DataFrame(newdata)\n",
    "df.to_csv(des, index=None, columns=None, header=None)"
   ]
  },
  {
   "cell_type": "code",
   "execution_count": 5,
   "metadata": {},
   "outputs": [
    {
     "data": {
      "text/html": [
       "<div>\n",
       "<style scoped>\n",
       "    .dataframe tbody tr th:only-of-type {\n",
       "        vertical-align: middle;\n",
       "    }\n",
       "\n",
       "    .dataframe tbody tr th {\n",
       "        vertical-align: top;\n",
       "    }\n",
       "\n",
       "    .dataframe thead th {\n",
       "        text-align: right;\n",
       "    }\n",
       "</style>\n",
       "<table border=\"1\" class=\"dataframe\">\n",
       "  <thead>\n",
       "    <tr style=\"text-align: right;\">\n",
       "      <th></th>\n",
       "      <th>0</th>\n",
       "      <th>1</th>\n",
       "      <th>2</th>\n",
       "      <th>3</th>\n",
       "      <th>4</th>\n",
       "      <th>5</th>\n",
       "      <th>6</th>\n",
       "      <th>7</th>\n",
       "      <th>8</th>\n",
       "      <th>9</th>\n",
       "      <th>10</th>\n",
       "    </tr>\n",
       "  </thead>\n",
       "  <tbody>\n",
       "    <tr>\n",
       "      <th>count</th>\n",
       "      <td>2.000000e+05</td>\n",
       "      <td>2.000000e+05</td>\n",
       "      <td>2.000000e+05</td>\n",
       "      <td>2.000000e+05</td>\n",
       "      <td>2.000000e+05</td>\n",
       "      <td>2.000000e+05</td>\n",
       "      <td>2.000000e+05</td>\n",
       "      <td>2.000000e+05</td>\n",
       "      <td>2.000000e+05</td>\n",
       "      <td>2.000000e+05</td>\n",
       "      <td>200000.000000</td>\n",
       "    </tr>\n",
       "    <tr>\n",
       "      <th>mean</th>\n",
       "      <td>2.373624e-16</td>\n",
       "      <td>2.992173e-16</td>\n",
       "      <td>-2.135195e-17</td>\n",
       "      <td>2.407091e-16</td>\n",
       "      <td>-3.016332e-16</td>\n",
       "      <td>9.777956e-17</td>\n",
       "      <td>-5.627051e-16</td>\n",
       "      <td>-3.978462e-16</td>\n",
       "      <td>2.545020e-16</td>\n",
       "      <td>-9.838685e-17</td>\n",
       "      <td>2.005205</td>\n",
       "    </tr>\n",
       "    <tr>\n",
       "      <th>std</th>\n",
       "      <td>1.000003e+00</td>\n",
       "      <td>1.000003e+00</td>\n",
       "      <td>1.000003e+00</td>\n",
       "      <td>1.000003e+00</td>\n",
       "      <td>1.000003e+00</td>\n",
       "      <td>1.000003e+00</td>\n",
       "      <td>1.000003e+00</td>\n",
       "      <td>1.000003e+00</td>\n",
       "      <td>1.000003e+00</td>\n",
       "      <td>1.000003e+00</td>\n",
       "      <td>1.581019</td>\n",
       "    </tr>\n",
       "    <tr>\n",
       "      <th>min</th>\n",
       "      <td>-5.549194e+00</td>\n",
       "      <td>-6.704621e+00</td>\n",
       "      <td>-6.078767e+00</td>\n",
       "      <td>-5.832126e+00</td>\n",
       "      <td>-6.342924e+00</td>\n",
       "      <td>-6.125879e+00</td>\n",
       "      <td>-6.077214e+00</td>\n",
       "      <td>-6.997231e+00</td>\n",
       "      <td>-6.090444e+00</td>\n",
       "      <td>-6.641129e+00</td>\n",
       "      <td>0.000000</td>\n",
       "    </tr>\n",
       "    <tr>\n",
       "      <th>25%</th>\n",
       "      <td>-7.593406e-01</td>\n",
       "      <td>-7.594203e-01</td>\n",
       "      <td>-7.614240e-01</td>\n",
       "      <td>-7.598787e-01</td>\n",
       "      <td>-7.601647e-01</td>\n",
       "      <td>-7.570650e-01</td>\n",
       "      <td>-7.577331e-01</td>\n",
       "      <td>-7.597380e-01</td>\n",
       "      <td>-7.614300e-01</td>\n",
       "      <td>-7.545289e-01</td>\n",
       "      <td>0.000000</td>\n",
       "    </tr>\n",
       "    <tr>\n",
       "      <th>50%</th>\n",
       "      <td>1.037054e-02</td>\n",
       "      <td>4.739327e-03</td>\n",
       "      <td>7.515033e-03</td>\n",
       "      <td>5.795658e-03</td>\n",
       "      <td>3.713354e-03</td>\n",
       "      <td>3.746962e-03</td>\n",
       "      <td>2.565856e-03</td>\n",
       "      <td>5.959418e-03</td>\n",
       "      <td>3.762931e-03</td>\n",
       "      <td>1.995103e-02</td>\n",
       "      <td>2.000000</td>\n",
       "    </tr>\n",
       "    <tr>\n",
       "      <th>75%</th>\n",
       "      <td>7.607606e-01</td>\n",
       "      <td>7.602288e-01</td>\n",
       "      <td>7.618874e-01</td>\n",
       "      <td>7.637484e-01</td>\n",
       "      <td>7.642078e-01</td>\n",
       "      <td>7.610693e-01</td>\n",
       "      <td>7.645313e-01</td>\n",
       "      <td>7.621119e-01</td>\n",
       "      <td>7.569196e-01</td>\n",
       "      <td>7.525129e-01</td>\n",
       "      <td>4.000000</td>\n",
       "    </tr>\n",
       "    <tr>\n",
       "      <th>max</th>\n",
       "      <td>7.410587e+00</td>\n",
       "      <td>5.430910e+00</td>\n",
       "      <td>6.684360e+00</td>\n",
       "      <td>5.554099e+00</td>\n",
       "      <td>5.808318e+00</td>\n",
       "      <td>6.161186e+00</td>\n",
       "      <td>6.288295e+00</td>\n",
       "      <td>5.642327e+00</td>\n",
       "      <td>5.594505e+00</td>\n",
       "      <td>5.692206e+00</td>\n",
       "      <td>4.000000</td>\n",
       "    </tr>\n",
       "  </tbody>\n",
       "</table>\n",
       "</div>"
      ],
      "text/plain": [
       "                 0             1             2             3             4   \\\n",
       "count  2.000000e+05  2.000000e+05  2.000000e+05  2.000000e+05  2.000000e+05   \n",
       "mean   2.373624e-16  2.992173e-16 -2.135195e-17  2.407091e-16 -3.016332e-16   \n",
       "std    1.000003e+00  1.000003e+00  1.000003e+00  1.000003e+00  1.000003e+00   \n",
       "min   -5.549194e+00 -6.704621e+00 -6.078767e+00 -5.832126e+00 -6.342924e+00   \n",
       "25%   -7.593406e-01 -7.594203e-01 -7.614240e-01 -7.598787e-01 -7.601647e-01   \n",
       "50%    1.037054e-02  4.739327e-03  7.515033e-03  5.795658e-03  3.713354e-03   \n",
       "75%    7.607606e-01  7.602288e-01  7.618874e-01  7.637484e-01  7.642078e-01   \n",
       "max    7.410587e+00  5.430910e+00  6.684360e+00  5.554099e+00  5.808318e+00   \n",
       "\n",
       "                 5             6             7             8             9   \\\n",
       "count  2.000000e+05  2.000000e+05  2.000000e+05  2.000000e+05  2.000000e+05   \n",
       "mean   9.777956e-17 -5.627051e-16 -3.978462e-16  2.545020e-16 -9.838685e-17   \n",
       "std    1.000003e+00  1.000003e+00  1.000003e+00  1.000003e+00  1.000003e+00   \n",
       "min   -6.125879e+00 -6.077214e+00 -6.997231e+00 -6.090444e+00 -6.641129e+00   \n",
       "25%   -7.570650e-01 -7.577331e-01 -7.597380e-01 -7.614300e-01 -7.545289e-01   \n",
       "50%    3.746962e-03  2.565856e-03  5.959418e-03  3.762931e-03  1.995103e-02   \n",
       "75%    7.610693e-01  7.645313e-01  7.621119e-01  7.569196e-01  7.525129e-01   \n",
       "max    6.161186e+00  6.288295e+00  5.642327e+00  5.594505e+00  5.692206e+00   \n",
       "\n",
       "                  10  \n",
       "count  200000.000000  \n",
       "mean        2.005205  \n",
       "std         1.581019  \n",
       "min         0.000000  \n",
       "25%         0.000000  \n",
       "50%         2.000000  \n",
       "75%         4.000000  \n",
       "max         4.000000  "
      ]
     },
     "execution_count": 5,
     "metadata": {},
     "output_type": "execute_result"
    }
   ],
   "source": [
    "data = pd.read_csv('artificial/output/movingRBF.csv', header=None)\n",
    "data.describe()"
   ]
  },
  {
   "cell_type": "markdown",
   "metadata": {},
   "source": [
    "# sea"
   ]
  },
  {
   "cell_type": "code",
   "execution_count": 27,
   "metadata": {},
   "outputs": [],
   "source": [
    "src = 'data/benchmark/artificial/sea/SEA_training_data.csv'\n",
    "src_label = 'data/benchmark/artificial/sea/SEA_training_class.csv'\n",
    "des = 'data/benchmark/SEA_training_class.csv'\n",
    "\n",
    "x = pd.read_csv(src, sep=',', header=None)\n",
    "y = pd.read_csv(src_label, header=None).values\n",
    "\n",
    "df_std = StandardScaler().fit_transform(x)\n",
    "newdata = np.concatenate([df_std, np.array(y, dtype=np.int8).reshape((-1,1))], axis=1)\n",
    "\n",
    "df = pd.DataFrame(newdata)\n",
    "df.to_csv(des, index=None, columns=None, header=None)"
   ]
  },
  {
   "cell_type": "code",
   "execution_count": 50,
   "metadata": {},
   "outputs": [
    {
     "data": {
      "text/plain": [
       "0.38096"
      ]
     },
     "execution_count": 50,
     "metadata": {},
     "output_type": "execute_result"
    }
   ],
   "source": [
    "19048 / 50000"
   ]
  },
  {
   "cell_type": "markdown",
   "metadata": {},
   "source": [
    "# souza"
   ]
  },
  {
   "cell_type": "code",
   "execution_count": 29,
   "metadata": {},
   "outputs": [],
   "source": [
    "src = 'data/benchmark/artificial/souza/2CDT.data'\n",
    "src_label = 'data/benchmark/artificial/souza/2CDT.labels'\n",
    "des = 'data/benchmark/2CDT.csv'\n",
    "\n",
    "x = pd.read_csv(src, sep=' ', header=None)\n",
    "y = pd.read_csv(src_label, header=None).values\n",
    "\n",
    "df_std = StandardScaler().fit_transform(x)\n",
    "newdata = np.concatenate([df_std, np.array(y, dtype=np.int8).reshape((-1,1))], axis=1)\n",
    "\n",
    "df = pd.DataFrame(newdata)\n",
    "df.to_csv(des, index=None, columns=None, header=None)"
   ]
  },
  {
   "cell_type": "code",
   "execution_count": 55,
   "metadata": {},
   "outputs": [
    {
     "name": "stdout",
     "output_type": "stream",
     "text": [
      "(125000, 1) \n",
      "    classes  number\n",
      "0        0   31250\n",
      "1        1   31250\n",
      "2        2   31250\n",
      "3        3   31250\n"
     ]
    }
   ],
   "source": [
    "src_label = 'data/benchmark/artificial/souza/4CRE-V1.labels'\n",
    "\n",
    "def compute_class_info(labels):\n",
    "    \"\"\"\n",
    "    return the statistic information about class information\n",
    "    \"\"\"\n",
    "    classes = list(set(labels))\n",
    "    class_num_true_list = []\n",
    "    for c in classes:\n",
    "        class_num_true_list.append(len(np.where(labels == c)[0]))\n",
    "    class_info = np.array([classes, class_num_true_list], dtype=int).transpose()\n",
    "    class_info = pd.DataFrame(class_info, columns=['classes', 'number'])\n",
    "    class_info = class_info.sort_values(by='number')\n",
    "    return class_info\n",
    "\n",
    "y = pd.read_csv(src_label, header=None).values\n",
    "\n",
    "class_info = compute_class_info(y.reshape((-1)))\n",
    "print(y.shape, '\\n', class_info)"
   ]
  }
 ],
 "metadata": {
  "kernelspec": {
   "display_name": "Python 3",
   "language": "python",
   "name": "python3"
  },
  "language_info": {
   "codemirror_mode": {
    "name": "ipython",
    "version": 3
   },
   "file_extension": ".py",
   "mimetype": "text/x-python",
   "name": "python",
   "nbconvert_exporter": "python",
   "pygments_lexer": "ipython3",
   "version": "3.7.6"
  }
 },
 "nbformat": 4,
 "nbformat_minor": 4
}
